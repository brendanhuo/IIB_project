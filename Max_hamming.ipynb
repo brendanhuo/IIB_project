{
 "cells": [
  {
   "cell_type": "code",
   "execution_count": 62,
   "metadata": {},
   "outputs": [],
   "source": [
    "import numpy as np\n",
    "import pandas as pd\n",
    "from Bio import SeqIO"
   ]
  },
  {
   "cell_type": "code",
   "execution_count": 63,
   "metadata": {},
   "outputs": [],
   "source": [
    "input_file = \"./gRNA_sequences/benchling_export.fasta\" #gRNA sequences\n",
    "targets = \"./gRNA_sequences/targets.fasta\""
   ]
  },
  {
   "cell_type": "code",
   "execution_count": 64,
   "metadata": {},
   "outputs": [],
   "source": [
    "#Read gRNA sequences using biopython fasta parser\n",
    "records_targets = list(SeqIO.parse(targets, \"fasta\"))"
   ]
  },
  {
   "cell_type": "markdown",
   "metadata": {},
   "source": [
    "Use greedy method to find sequence with large hamming distance to all 127 target sequences.\n",
    "\n",
    "For each sequence position, use nucleotide with highest average hamming distance for that given sequence. Not global optimum but for large enough length sequence (60 bases long here), should be good enough "
   ]
  },
  {
   "cell_type": "code",
   "execution_count": 65,
   "metadata": {},
   "outputs": [],
   "source": [
    "maxHamSeq = []\n",
    "bases = ['a','c','g','t']\n",
    "#for each position\n",
    "for i in range(0,len(records_targets[0].seq)):\n",
    "    bases_count = np.zeros(len(bases))\n",
    "\n",
    "    #for each target sequence\n",
    "    for j in range(len(records_targets)):\n",
    "        for k in range(len(bases)):\n",
    "            #count for each base the number of appearances for that position\n",
    "            if records_targets[j].seq[i] == bases[k]:\n",
    "                bases_count[k] += 1\n",
    "\n",
    "    ## Use base that is least likely among 127 sequences for that particular position\n",
    "    maxHamSeq.append(bases[np.argmin(bases_count)])\n",
    "\n",
    "    "
   ]
  },
  {
   "cell_type": "code",
   "execution_count": 66,
   "metadata": {},
   "outputs": [
    {
     "name": "stdout",
     "output_type": "stream",
     "text": [
      "Minimum hamming distance: 40.0\n",
      "Average hamming distance: 48.75590551181077\n"
     ]
    }
   ],
   "source": [
    "averageHam = 0\n",
    "hams = np.zeros(len(records_targets))\n",
    "for i in range(len(records_targets[0].seq)):\n",
    "    for j in range(len(records_targets)):\n",
    "        #if the base for a certain target and position is not the same as the maxHam sequence \n",
    "        if records_targets[j].seq[i] != maxHamSeq[i]:\n",
    "            averageHam += 1/len(records_targets)\n",
    "            hams[j] += 1\n",
    "print('Minimum hamming distance: {}'.format(np.min(hams)))\n",
    "print('Average hamming distance: {}'.format(averageHam))\n",
    "\n"
   ]
  },
  {
   "cell_type": "code",
   "execution_count": 67,
   "metadata": {},
   "outputs": [
    {
     "data": {
      "text/plain": [
       "array(['g', 't', 'c', 'a', 'g', 't', 'g', 'g', 'g', 'g', 'a', 'a', 'c',\n",
       "       'c', 'a', 'a', 'a', 'c', 'g', 'a', 'a', 'g', 'g', 'a', 'c', 'a',\n",
       "       'c', 'c', 'a', 'g', 't', 'c', 'g', 'g', 'c', 'c', 'g', 'g', 'c',\n",
       "       'g', 'c', 'g', 'c', 'g', 'c', 'a', 'g', 'c', 'c', 'c', 'g', 'g',\n",
       "       'c', 'g', 'g', 'g', 'c', 'g', 'c', 'g'], dtype='<U1')"
      ]
     },
     "execution_count": 67,
     "metadata": {},
     "output_type": "execute_result"
    }
   ],
   "source": [
    "maxHamSeq = np.array(maxHamSeq).ravel()\n",
    "# len(maxHamSeq)\n",
    "maxHamSeq"
   ]
  },
  {
   "cell_type": "code",
   "execution_count": 68,
   "metadata": {},
   "outputs": [
    {
     "name": "stdout",
     "output_type": "stream",
     "text": [
      "Max Ham Sequence: gtcagtggggaaccaaacgaaggacaccagtcggccggcgcgcgcagcccggcgggcgcg\n"
     ]
    }
   ],
   "source": [
    "seq = ''\n",
    "for i in range(len(maxHamSeq)):\n",
    "    seq += maxHamSeq[i]\n",
    "print('Max Ham Sequence: ' + seq)\n",
    "df = pd.DataFrame({'Maximum Hamming Distance sequence':seq},index = [0])"
   ]
  },
  {
   "cell_type": "code",
   "execution_count": 69,
   "metadata": {},
   "outputs": [],
   "source": [
    "df.to_csv('./Outputs/maxHammingDistanceSeq.csv')"
   ]
  }
 ],
 "metadata": {
  "interpreter": {
   "hash": "ebc0a3537e71ff472574b5d63060e7c80686df410c44e13cd507a099c8db4b67"
  },
  "kernelspec": {
   "display_name": "Python 3.9.7 ('base')",
   "language": "python",
   "name": "python3"
  },
  "language_info": {
   "codemirror_mode": {
    "name": "ipython",
    "version": 3
   },
   "file_extension": ".py",
   "mimetype": "text/x-python",
   "name": "python",
   "nbconvert_exporter": "python",
   "pygments_lexer": "ipython3",
   "version": "3.9.7"
  },
  "orig_nbformat": 4
 },
 "nbformat": 4,
 "nbformat_minor": 2
}
